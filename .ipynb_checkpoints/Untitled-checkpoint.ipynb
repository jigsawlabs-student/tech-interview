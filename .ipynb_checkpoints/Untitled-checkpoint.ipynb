{
 "cells": [
  {
   "cell_type": "markdown",
   "id": "0b8b9246-24e0-40d1-83ba-1b31cb2ed8e0",
   "metadata": {},
   "source": [
    "# Coding Assessment"
   ]
  },
  {
   "cell_type": "markdown",
   "id": "ca0fca91-6152-4f83-b84f-940ee157b8ef",
   "metadata": {},
   "source": [
    "### List of Students"
   ]
  },
  {
   "cell_type": "code",
   "execution_count": 1,
   "id": "7e48a9fb-c81a-412d-b22d-ee7afeb6a8ab",
   "metadata": {},
   "outputs": [],
   "source": [
    "students = ['sam', 'bill', 'grace', 'charlie', 'zoe']"
   ]
  },
  {
   "cell_type": "markdown",
   "id": "e87493b0-c260-4f67-9781-0df26501d51b",
   "metadata": {},
   "source": [
    "### Dictionaries"
   ]
  },
  {
   "cell_type": "code",
   "execution_count": 4,
   "id": "a7648e34-14f4-4ad5-86b4-218f097c3e01",
   "metadata": {},
   "outputs": [],
   "source": [
    "import pandas as pd\n",
    "\n",
    "movies_df = pd.read_csv(\"https://raw.githubusercontent.com/jigsawlabs-student/pandas-free-curriculum/master/imdb_movies.csv\")"
   ]
  },
  {
   "cell_type": "code",
   "execution_count": 5,
   "id": "77903235-4dbd-42d3-a158-501f79d37dfc",
   "metadata": {},
   "outputs": [],
   "source": [
    "movies = movies_df.to_dict('records')"
   ]
  },
  {
   "cell_type": "code",
   "execution_count": 6,
   "id": "e632461c-7ec6-475a-914e-6068bc3f7cef",
   "metadata": {},
   "outputs": [
    {
     "data": {
      "text/plain": [
       "[{'title': 'Avatar',\n",
       "  'genre': 'Action',\n",
       "  'budget': 237000000,\n",
       "  'runtime': 162.0,\n",
       "  'year': 2009,\n",
       "  'month': 12,\n",
       "  'revenue': 2787965087},\n",
       " {'title': \"Pirates of the Caribbean: At World's End\",\n",
       "  'genre': 'Adventure',\n",
       "  'budget': 300000000,\n",
       "  'runtime': 169.0,\n",
       "  'year': 2007,\n",
       "  'month': 5,\n",
       "  'revenue': 961000000}]"
      ]
     },
     "execution_count": 6,
     "metadata": {},
     "output_type": "execute_result"
    }
   ],
   "source": [
    "movies[:2]"
   ]
  },
  {
   "cell_type": "code",
   "execution_count": null,
   "id": "2c541997-e7b8-4d0b-8a1b-b4d12299d6f1",
   "metadata": {},
   "outputs": [],
   "source": []
  }
 ],
 "metadata": {
  "kernelspec": {
   "display_name": "Python 3",
   "language": "python",
   "name": "python3"
  },
  "language_info": {
   "codemirror_mode": {
    "name": "ipython",
    "version": 3
   },
   "file_extension": ".py",
   "mimetype": "text/x-python",
   "name": "python",
   "nbconvert_exporter": "python",
   "pygments_lexer": "ipython3",
   "version": "3.8.8"
  }
 },
 "nbformat": 4,
 "nbformat_minor": 5
}
