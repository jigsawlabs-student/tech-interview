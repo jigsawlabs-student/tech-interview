{
 "cells": [
  {
   "cell_type": "markdown",
   "id": "0b8b9246-24e0-40d1-83ba-1b31cb2ed8e0",
   "metadata": {},
   "source": [
    "# Coding Assessment"
   ]
  },
  {
   "cell_type": "markdown",
   "id": "ca0fca91-6152-4f83-b84f-940ee157b8ef",
   "metadata": {},
   "source": [
    "### List of Students"
   ]
  },
  {
   "cell_type": "code",
   "execution_count": 1,
   "id": "7e48a9fb-c81a-412d-b22d-ee7afeb6a8ab",
   "metadata": {},
   "outputs": [],
   "source": [
    "students = ['sam', 'bill', 'grace', 'charlie', 'zoe']"
   ]
  },
  {
   "cell_type": "code",
   "execution_count": null,
   "id": "aaa2363e-67e3-4fa2-8663-9267a790fab5",
   "metadata": {},
   "outputs": [],
   "source": []
  },
  {
   "cell_type": "markdown",
   "id": "e87493b0-c260-4f67-9781-0df26501d51b",
   "metadata": {},
   "source": [
    "### Dictionaries"
   ]
  },
  {
   "cell_type": "code",
   "execution_count": 1,
   "id": "a7648e34-14f4-4ad5-86b4-218f097c3e01",
   "metadata": {},
   "outputs": [],
   "source": [
    "import pandas as pd\n",
    "\n",
    "movies_df = pd.read_csv(\"https://raw.githubusercontent.com/jigsawlabs-student/tech-interview/main/movies.csv\")"
   ]
  },
  {
   "cell_type": "code",
   "execution_count": 2,
   "id": "77903235-4dbd-42d3-a158-501f79d37dfc",
   "metadata": {},
   "outputs": [],
   "source": [
    "movies = movies_df.to_dict('records')"
   ]
  },
  {
   "cell_type": "code",
   "execution_count": null,
   "id": "d8a447df-b463-4e9c-af1b-054109b48406",
   "metadata": {},
   "outputs": [],
   "source": []
  },
  {
   "cell_type": "markdown",
   "id": "c2cc73bd-8627-4974-b6c8-32709f1d6dc3",
   "metadata": {},
   "source": [
    "### Additional Problem"
   ]
  },
  {
   "cell_type": "code",
   "execution_count": 4,
   "id": "2c541997-e7b8-4d0b-8a1b-b4d12299d6f1",
   "metadata": {},
   "outputs": [],
   "source": [
    "original_list = [64, 39, 79, 73, 81, 42, 74, 63, 52, 36, 67]\n",
    "\n",
    "target_index = 2\n",
    "\n",
    "# [64, 39]"
   ]
  },
  {
   "cell_type": "code",
   "execution_count": null,
   "id": "2846e4be-41b0-49fd-8809-0afa8e20ef0e",
   "metadata": {},
   "outputs": [],
   "source": []
  }
 ],
 "metadata": {
  "kernelspec": {
   "display_name": "Python 3 (ipykernel)",
   "language": "python",
   "name": "python3"
  },
  "language_info": {
   "codemirror_mode": {
    "name": "ipython",
    "version": 3
   },
   "file_extension": ".py",
   "mimetype": "text/x-python",
   "name": "python",
   "nbconvert_exporter": "python",
   "pygments_lexer": "ipython3",
   "version": "3.10.6"
  }
 },
 "nbformat": 4,
 "nbformat_minor": 5
}
